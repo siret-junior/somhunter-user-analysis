{
 "cells": [
  {
   "cell_type": "code",
   "execution_count": 1,
   "id": "92d0ffe3",
   "metadata": {},
   "outputs": [],
   "source": [
    "# initiating search without text query wasn't recommended, however it was not forbidden\n",
    "\n",
    "# Nevertheless number of searches without initial text query wasn't significant, so we did not gave it much attention during user analysis"
   ]
  },
  {
   "cell_type": "code",
   "execution_count": 2,
   "id": "bbad967d",
   "metadata": {},
   "outputs": [],
   "source": [
    "import base"
   ]
  },
  {
   "cell_type": "code",
   "execution_count": 3,
   "id": "a3bbde06",
   "metadata": {},
   "outputs": [
    {
     "data": {
      "text/plain": [
       "4"
      ]
     },
     "execution_count": 3,
     "metadata": {},
     "output_type": "execute_result"
    }
   ],
   "source": [
    "grouped_users = base.get_dataset_with_browsing_id_and_group_by_user()\n",
    "length_count = 0\n",
    "for username, group in grouped_users:\n",
    "    group = base.filter_out_mess(group)\n",
    "    grouped_targets = group.groupby('target_id')\n",
    "    for target, target_group in grouped_targets:\n",
    "        target_group = target_group.sort_values(by=\"timestamp\")\n",
    "        if target_group.iloc[0]['type'] != 'text':\n",
    "            length_count += 1\n",
    "length_count"
   ]
  }
 ],
 "metadata": {
  "kernelspec": {
   "display_name": "Python 3 (ipykernel)",
   "language": "python",
   "name": "python3"
  },
  "language_info": {
   "codemirror_mode": {
    "name": "ipython",
    "version": 3
   },
   "file_extension": ".py",
   "mimetype": "text/x-python",
   "name": "python",
   "nbconvert_exporter": "python",
   "pygments_lexer": "ipython3",
   "version": "3.9.5"
  }
 },
 "nbformat": 4,
 "nbformat_minor": 5
}
